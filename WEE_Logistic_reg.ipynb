{
 "cells": [
  {
   "cell_type": "code",
   "execution_count": 1,
   "metadata": {
    "collapsed": false
   },
   "outputs": [
    {
     "data": {
      "text/plain": [
       "WEE_binary (generic function with 3 methods)"
      ]
     },
     "execution_count": 1,
     "metadata": {},
     "output_type": "execute_result"
    }
   ],
   "source": [
    "#Implement logistic regression in WEE\n",
    "using DataFrames, GLM, Distributions, Optim\n",
    "\n",
    "function WEE_binary(formula::DataFrames.Formula, D, data::DataFrames.DataFrame, pd_pop::Float64, iter::Int64= 10, boot::Int64 = 0)\n",
    "    mf = ModelFrame(formu, data)\n",
    "    responseV = formu.lhs # get y (response varible)\n",
    "    y = mf.df[responseV] # get dataframe[y1]\n",
    "    \n",
    "    namesx = DataFrames.allvars(formu)[1:end-1] #get string x1, x2\n",
    "    \n",
    "    xx = ModelMatrix(mf)\n",
    "    \n",
    "    temp_data = convert(DataFrame, xx.m[:,2:end])\n",
    "    temp_data[:D] = D\n",
    "    temp_data[:y] = y\n",
    "    \n",
    "    n1 = sum(D.==1)\n",
    "    n0 = sum(D.==0)\n",
    "    \n",
    "    # compute the weight p(D|X)\n",
    "    formu.lhs = :D\n",
    "    gamma=coef(glm(formu, temp_data, Binomial()))\n",
    "    \n",
    "    function PO(gamma0::Float64)\n",
    "        gamma[1] = gamma0\n",
    "        (mean(exp(xx.m * gamma)./(1+exp(xx.m * gamma))) - pd_pop)^2\n",
    "    end\n",
    "    \n",
    "    # Get the argument when PO has the minimum value\n",
    "    gamma[1] = optimize(PO, -100, 100).minimum\n",
    "    temp_data[:estpx] = exp(xx.m * gamma)./(1+exp(xx.m * gamma))\n",
    "    \n",
    "    #estimate P(Y=1) in cases and controls separately\n",
    "    formu.lhs = :y\n",
    "    pyD1 = glm(formu, temp_data[temp_data[:D] .== 1,:], Binomial()) # fit the case\n",
    "    pyD0 = glm(formu, temp_data[temp_data[:D] .== 0,:], Binomial()) # fit the control\n",
    "    \n",
    "    pred1 = predict(pyD1, temp_data[temp_data[:D] .== 1,:]) # generate pseudo control\n",
    "    pred0 = predict(pyD1, temp_data[temp_data[:D] .== 0,:]) # generate pseudo case\n",
    "    \n",
    "    py1 = exp(pred1)./(1+exp(pred1))\n",
    "    py0 = exp(pred0)./(1+exp(pred0))\n",
    "    \n",
    "    # Generate pseudo observations for iter times and get the averaged $iter$ estimates as coefficient pseudo = NULL\n",
    "    pseudo = DataFrame() # Build an empty dataframe\n",
    "    for n = 1:size(namesx)[1]\n",
    "        pseudo[Symbol(namesx[n])] = Float64[]\n",
    "    end\n",
    "    \n",
    "    for iiter = 1:iter\n",
    "        pseudo1 = [rand(Bernoulli(x)) for x in py1]\n",
    "        pseudo0 = [rand(Bernoulli(x)) for x in py0]\n",
    "        data1 = DataFrame(D = repmat([0], n1), y = pseudo1)\n",
    "        data1[namesx[1]] = temp_data[temp_data[:D] .== 1,:][1]\n",
    "        data1[namesx[2]] = temp_data[temp_data[:D] .== 1,:][2]\n",
    "        data1[:estpx] = temp_data[temp_data[:D] .== 1,:][:estpx]\n",
    "        \n",
    "        data0 = DataFrame(D = repmat([1], n0), y = pseudo0)\n",
    "        data0[namesx[1]] = temp_data[temp_data[:D] .== 0,:][1]\n",
    "        data0[namesx[2]] = temp_data[temp_data[:D] .== 0,:][2]\n",
    "        data0[:estpx] = temp_data[temp_data[:D] .== 0,:][:estpx]\n",
    "        \n",
    "        alldat = vcat(temp_data, data1, data0)\n",
    "        alldat[alldat[:D] .== 0, :estpx] = 1 - alldat[alldat[:D] .== 0, :estpx]\n",
    "        \n",
    "        push!(pseudo, coef(glm(formu, alldat, Binomial(), LogitLink(), wts = convert(Array, alldat[:,:estpx])))[2:end])\n",
    "    end\n",
    "    \n",
    "    # The point estimate\n",
    "    cf = squeeze(mean(Array(pseudo), 1), 1)\n",
    "    \n",
    "    #bootstrap SE\n",
    "    bootcoef = DataFrame() # Build an empty dataframe\n",
    "    for n = 1:size(namesx)[1]\n",
    "        bootcoef[namesx[n]] = Float64[]\n",
    "    end\n",
    "    \n",
    "    if boot == 0\n",
    "        push!(bootcoef, cf)\n",
    "        bootcoef\n",
    "    else\n",
    "        sample_cases = temp_data[temp_data[:D] .== 1,:]\n",
    "        sample_controls = temp_data[temp_data[:D] .== 0,:]\n",
    "        \n",
    "        for iboot in 1:boot\n",
    "            boot_cases_sample = sample_cases[sample(1:n1, n1, replace = true), :]\n",
    "            boot_controls_sample = sample_controls[sample(1:n0, n0, replace = true), :]\n",
    "            bootsample = vcat(boot_cases_sample, boot_controls_sample)\n",
    "            \n",
    "            bootmf = ModelFrame(formu, bootsample)\n",
    "            bootxx = ModelMatrix(bootmf)\n",
    "            \n",
    "            # compute the weight p(D|X) \n",
    "            formu.lhs = :D\n",
    "            gamma = coef(glm(formu, bootsample, Binomial()))\n",
    "            \n",
    "            function Boot_PO(gamma0::Float64)\n",
    "                gamma[1] = gamma0\n",
    "                (mean(exp(bootxx.m * gamma)./(1+exp(bootxx.m * gamma))) - pd_pop)^2\n",
    "            end\n",
    "            \n",
    "            gamma[1] = optimize(Boot_PO, -100, 100).minimum\n",
    "            bootsample[:estpx] = exp(bootxx.m * gamma)./(1+exp(bootxx.m * gamma))\n",
    "            \n",
    "            formu.lhs = :y\n",
    "            \n",
    "            pyD1 = glm(formu, boot_cases_sample, Binomial()) # fit the case\n",
    "            pyD0 = glm(formu, boot_controls_sample, Binomial()) # fit the control\n",
    "        \n",
    "            pred1 = predict(pyD1, boot_cases_sample) # generate pseudo control\n",
    "            pred0 = predict(pyD1, boot_controls_sample) # generate pseudo case\n",
    "            \n",
    "            py1 = exp(pred1)./(1+exp(pred1))\n",
    "            py0 = exp(pred0)./(1+exp(pred0))\n",
    "            \n",
    "            # generate pseudo observations for T(=10) times and get the averaged T estimates as coefficient\n",
    "            \n",
    "            pseudo = DataFrame()\n",
    "            \n",
    "            for n = 1:size(namesx)[1]\n",
    "                pseudo[namesx[n]] = Float64[]\n",
    "            end\n",
    "            \n",
    "            for iiter = 1:iter\n",
    "                pseudo1 = [rand(Bernoulli(x)) for x in py1]\n",
    "                pseudo0 = [rand(Bernoulli(x)) for x in py0]\n",
    "                \n",
    "                data1 = DataFrame(D = repmat([0], n1), y = py1)\n",
    "                data1[namesx[1]] = boot_cases_sample[1]\n",
    "                data1[namesx[2]] = boot_cases_sample[2]\n",
    "                data1[:estpx] = boot_cases_sample[:estpx]\n",
    "                \n",
    "                data0 = DataFrame(D = repmat([1], n0), y = py0)\n",
    "                data0[namesx[1]] = boot_controls_sample[1]\n",
    "                data0[namesx[2]] = boot_controls_sample[2]\n",
    "                data0[:estpx] = boot_controls_sample[:estpx]\n",
    "                \n",
    "                alldat = vcat(bootsample, data1, data0)\n",
    "                alldat[alldat[:D] .== 0, :estpx] = 1 - alldat[alldat[:D] .== 0, :estpx]\n",
    "                \n",
    "                push!(pseudo, coef(glm(formu, alldat, Normal(), wts = convert(Array, alldat[:,:estpx])))[2:end])\n",
    "            \n",
    "            end\n",
    "            temp_cf = squeeze(mean(Array(pseudo), 1), 1)\n",
    "            push!(bootcoef, temp_cf)\n",
    "        end\n",
    "        var_num = var(Array(bootcoef), 1)\n",
    "        wald = (cf.^2)./squeeze(var_num, 1)\n",
    "        pvalue = [ccdf(Chisq(1), m) for m in wald]\n",
    "        TAB = DataFrame(Variable = namesx, Estimate = cf, StdErr = squeeze(sqrt(var_num), 1), Wald = wald, p_value = pvalue)\n",
    "    end\n",
    "end\n",
    "\n"
   ]
  },
  {
   "cell_type": "code",
   "execution_count": 2,
   "metadata": {
    "collapsed": false
   },
   "outputs": [
    {
     "data": {
      "text/html": [
       "<table class=\"data-frame\"><thead><tr><th></th><th>Variable</th><th>Estimate</th><th>StdErr</th><th>Wald</th><th>p_value</th></tr></thead><tbody><tr><th>1</th><td>x1</td><td>-0.0479605381130529</td><td>0.007974114017501603</td><td>36.17455623393674</td><td>1.8041073429611087e-9</td></tr><tr><th>2</th><td>x2</td><td>0.006790812804044966</td><td>0.010540310221231164</td><td>0.4150847054892678</td><td>0.5193999267323524</td></tr></tbody></table>"
      ],
      "text/plain": [
       "2×5 DataFrames.DataFrame\n",
       "│ Row │ Variable │ Estimate   │ StdErr     │ Wald     │ p_value    │\n",
       "├─────┼──────────┼────────────┼────────────┼──────────┼────────────┤\n",
       "│ 1   │ x1       │ -0.0479605 │ 0.00797411 │ 36.1746  │ 1.80411e-9 │\n",
       "│ 2   │ x2       │ 0.00679081 │ 0.0105403  │ 0.415085 │ 0.5194     │"
      ]
     },
     "execution_count": 2,
     "metadata": {},
     "output_type": "execute_result"
    }
   ],
   "source": [
    "#Test data\n",
    "x = DataFrame(x1 = rand(Binomial(2, 0.3), 3000), x2 = rand(Binomial(2, 0.2), 3000))\n",
    "y1 = rand(Binomial(1, 0.3), 3000)\n",
    "D = vcat([0 for i = 1:1000], [1 for i = 1:2000])   #vcat(repmat([0], 1000), repmat([1], 2000)) /// repeat([1, 2, 3, 4], outer=[2])\n",
    "y1d1 = DataFrame(y1 = y1, D = D)\n",
    "\n",
    "data = hcat(x, y1d1)\n",
    "pd = 0.1\n",
    "formu = y1 ~ x1 + x2\n",
    "boot = 10\n",
    "pd_pop = 0.1\n",
    "iter = 10\n",
    "\n",
    "WEE_binary(formu, D, data, pd_pop, iter, boot)"
   ]
  },
  {
   "cell_type": "code",
   "execution_count": 74,
   "metadata": {
    "collapsed": false
   },
   "outputs": [],
   "source": [
    "#Input formu, D, data, pd_pop, iter\n",
    "\n",
    "mf = ModelFrame(formu, data)\n",
    "responseV = formu.lhs # get y (response varible)\n",
    "y = mf.df[responseV] # get dataframe[y1]\n",
    "\n",
    "namesx = DataFrames.allvars(formu)[1:end-1] #get string x1, x2\n",
    "\n",
    "xx = ModelMatrix(mf)\n",
    "\n",
    "temp_data = convert(DataFrame, xx.m[:,2:end])\n",
    "temp_data[:D] = D\n",
    "temp_data[:y] = y\n",
    "\n",
    "n1 = sum(D.==1)\n",
    "n0 = sum(D.==0)\n",
    "\n",
    "# compute the weight p(D|X)\n",
    "formu.lhs = :D\n",
    "gamma=coef(glm(formu, temp_data, Binomial()));\n"
   ]
  },
  {
   "cell_type": "code",
   "execution_count": 5,
   "metadata": {
    "collapsed": false
   },
   "outputs": [
    {
     "data": {
      "text/plain": [
       "PO (generic function with 1 method)"
      ]
     },
     "execution_count": 5,
     "metadata": {},
     "output_type": "execute_result"
    }
   ],
   "source": [
    "function PO(gamma0::Float64)\n",
    "    gamma[1] = gamma0\n",
    "    (mean(exp(xx.m * gamma)./(1+exp(xx.m * gamma))) - pd_pop)^2\n",
    "end"
   ]
  },
  {
   "cell_type": "code",
   "execution_count": 75,
   "metadata": {
    "collapsed": false
   },
   "outputs": [],
   "source": [
    "# Get the argument when PO has the minimum value\n",
    "gamma[1] = optimize(PO, -100, 100).minimum\n",
    "temp_data[:estpx] = exp(xx.m * gamma)./(1+exp(xx.m * gamma));"
   ]
  },
  {
   "cell_type": "code",
   "execution_count": 76,
   "metadata": {
    "collapsed": false
   },
   "outputs": [],
   "source": [
    "#estimate P(Y=1) in cases and controls separately\n",
    "formu.lhs = :y\n",
    "pyD1 = glm(formu, temp_data[temp_data[:D] .== 1,:], Binomial()) # fit the case\n",
    "pyD0 = glm(formu, temp_data[temp_data[:D] .== 0,:], Binomial()) # fit the control\n",
    "\n",
    "pred1 = predict(pyD1, temp_data[temp_data[:D] .== 1,:]) # generate pseudo control\n",
    "pred0 = predict(pyD1, temp_data[temp_data[:D] .== 0,:]) # generate pseudo case\n",
    "\n",
    "py1 = exp(pred1)./(1+exp(pred1))\n",
    "py0 = exp(pred0)./(1+exp(pred0));"
   ]
  },
  {
   "cell_type": "code",
   "execution_count": 91,
   "metadata": {
    "collapsed": false
   },
   "outputs": [
    {
     "data": {
      "text/html": [
       "<table class=\"data-frame\"><thead><tr><th></th><th>x1</th><th>x2</th></tr></thead><tbody><tr><th>1</th><td>-0.0029755816384571523</td><td>-0.04168238872694586</td></tr><tr><th>2</th><td>0.03860479404966801</td><td>0.05088982974265588</td></tr><tr><th>3</th><td>-0.0036291585805375533</td><td>-0.0007759702386229952</td></tr><tr><th>4</th><td>0.04744825562341582</td><td>0.07577215035708201</td></tr><tr><th>5</th><td>0.0044390371698287395</td><td>-0.035621858147241316</td></tr><tr><th>6</th><td>-0.008020107251139162</td><td>0.04379956254568457</td></tr><tr><th>7</th><td>0.004002352498146907</td><td>-0.02888064271966861</td></tr><tr><th>8</th><td>0.016569324197047586</td><td>-0.03672601207560112</td></tr><tr><th>9</th><td>-0.06050854924053173</td><td>0.009409009185177944</td></tr><tr><th>10</th><td>0.015073455977836738</td><td>0.032640854500089606</td></tr></tbody></table>"
      ],
      "text/plain": [
       "10×2 DataFrames.DataFrame\n",
       "│ Row │ x1          │ x2          │\n",
       "├─────┼─────────────┼─────────────┤\n",
       "│ 1   │ -0.00297558 │ -0.0416824  │\n",
       "│ 2   │ 0.0386048   │ 0.0508898   │\n",
       "│ 3   │ -0.00362916 │ -0.00077597 │\n",
       "│ 4   │ 0.0474483   │ 0.0757722   │\n",
       "│ 5   │ 0.00443904  │ -0.0356219  │\n",
       "│ 6   │ -0.00802011 │ 0.0437996   │\n",
       "│ 7   │ 0.00400235  │ -0.0288806  │\n",
       "│ 8   │ 0.0165693   │ -0.036726   │\n",
       "│ 9   │ -0.0605085  │ 0.00940901  │\n",
       "│ 10  │ 0.0150735   │ 0.0326409   │"
      ]
     },
     "execution_count": 91,
     "metadata": {},
     "output_type": "execute_result"
    }
   ],
   "source": [
    "# Generate pseudo observations for iter times and get the averaged $iter$ estimates as coefficient pseudo = NULL\n",
    "pseudo = DataFrame() # Build an empty dataframe\n",
    "for n = 1:size(namesx)[1]\n",
    "    pseudo[Symbol(namesx[n])] = Float64[]\n",
    "end\n",
    "\n",
    "for iiter = 1:iter\n",
    "    pseudo1 = [rand(Bernoulli(x)) for x in py1]\n",
    "    pseudo0 = [rand(Bernoulli(x)) for x in py0]\n",
    "    data1 = DataFrame(D = repmat([0], n1), y = pseudo1)\n",
    "    data1[namesx[1]] = temp_data[temp_data[:D] .== 1,:][1]\n",
    "    data1[namesx[2]] = temp_data[temp_data[:D] .== 1,:][2]\n",
    "    data1[:estpx] = temp_data[temp_data[:D] .== 1,:][:estpx]\n",
    "    \n",
    "    data0 = DataFrame(D = repmat([1], n0), y = pseudo0)\n",
    "    data0[namesx[1]] = temp_data[temp_data[:D] .== 0,:][1]\n",
    "    data0[namesx[2]] = temp_data[temp_data[:D] .== 0,:][2]\n",
    "    data0[:estpx] = temp_data[temp_data[:D] .== 0,:][:estpx]\n",
    "    \n",
    "    alldat = vcat(temp_data, data1, data0)\n",
    "    alldat[alldat[:D] .== 0, :estpx] = 1 - alldat[alldat[:D] .== 0, :estpx]\n",
    "    \n",
    "    push!(pseudo, coef(glm(formu, alldat, Binomial(), LogitLink(), wts = convert(Array, alldat[:,:estpx])))[2:end])\n",
    "end\n",
    "\n",
    "pseudo\n"
   ]
  },
  {
   "cell_type": "code",
   "execution_count": 122,
   "metadata": {
    "collapsed": false
   },
   "outputs": [
    {
     "data": {
      "text/html": [
       "<table class=\"data-frame\"><thead><tr><th></th><th>Variable</th><th>Estimate</th><th>StdErr</th><th>Wald</th><th>p_value</th></tr></thead><tbody><tr><th>1</th><td>x1</td><td>0.010210842024657137</td><td>0.006021422571450194</td><td>2.8755763416238063</td><td>0.08993277261934657</td></tr><tr><th>2</th><td>x2</td><td>0.012030490774245969</td><td>0.00820226019045936</td><td>2.1512932038738155</td><td>0.14244986074878022</td></tr></tbody></table>"
      ],
      "text/plain": [
       "2×5 DataFrames.DataFrame\n",
       "│ Row │ Variable │ Estimate  │ StdErr     │ Wald    │ p_value   │\n",
       "├─────┼──────────┼───────────┼────────────┼─────────┼───────────┤\n",
       "│ 1   │ x1       │ 0.0102108 │ 0.00602142 │ 2.87558 │ 0.0899328 │\n",
       "│ 2   │ x2       │ 0.0120305 │ 0.00820226 │ 2.15129 │ 0.14245   │"
      ]
     },
     "execution_count": 122,
     "metadata": {},
     "output_type": "execute_result"
    }
   ],
   "source": [
    "# The point estimate\n",
    "cf = squeeze(mean(Array(pseudo), 1), 1)\n",
    "\n",
    "#bootstrap SE\n",
    "bootcoef = DataFrame() # Build an empty dataframe\n",
    "for n = 1:size(namesx)[1]\n",
    "    bootcoef[namesx[n]] = Float64[]\n",
    "end\n",
    "\n",
    "if boot == 0\n",
    "    push!(bootcoef, cf)\n",
    "    bootcoef\n",
    "else\n",
    "    sample_cases = temp_data[temp_data[:D] .== 1,:]\n",
    "    sample_controls = temp_data[temp_data[:D] .== 0,:]\n",
    "        \n",
    "    for iboot in 1:boot\n",
    "        \n",
    "        boot_cases_sample = sample_cases[sample(1:n1, n1, replace = true), :]\n",
    "        boot_controls_sample = sample_controls[sample(1:n0, n0, replace = true), :]\n",
    "        bootsample = vcat(boot_cases_sample, boot_controls_sample)\n",
    "        \n",
    "        bootmf = ModelFrame(formu, bootsample)\n",
    "        bootxx = ModelMatrix(bootmf)\n",
    "        \n",
    "        # compute the weight p(D|X) \n",
    "        formu.lhs = :D\n",
    "        gamma = coef(glm(formu, bootsample, Binomial()))\n",
    "        \n",
    "        function Boot_PO(gamma0::Float64)\n",
    "            gamma[1] = gamma0\n",
    "            (mean(exp(bootxx.m * gamma)./(1+exp(bootxx.m * gamma))) - pd_pop)^2\n",
    "        end\n",
    "        \n",
    "        gamma[1] = optimize(Boot_PO, -100, 100).minimum\n",
    "        bootsample[:estpx] = exp(bootxx.m * gamma)./(1+exp(bootxx.m * gamma))\n",
    "        \n",
    "        formu.lhs = :y\n",
    "        \n",
    "        pyD1 = glm(formu, boot_cases_sample, Binomial()) # fit the case\n",
    "        pyD0 = glm(formu, boot_controls_sample, Binomial()) # fit the control\n",
    "        \n",
    "        pred1 = predict(pyD1, boot_cases_sample) # generate pseudo control\n",
    "        pred0 = predict(pyD1, boot_controls_sample) # generate pseudo case\n",
    "        \n",
    "        py1 = exp(pred1)./(1+exp(pred1))\n",
    "        py0 = exp(pred0)./(1+exp(pred0))\n",
    "        \n",
    "        # generate pseudo observations for T(=10) times and get the averaged T estimates as coefficient\n",
    "        \n",
    "        pseudo = DataFrame()\n",
    "        \n",
    "        for n = 1:size(namesx)[1]\n",
    "            pseudo[namesx[n]] = Float64[]\n",
    "        end\n",
    "        \n",
    "        for iiter = 1:iter\n",
    "            pseudo1 = [rand(Bernoulli(x)) for x in py1]\n",
    "            pseudo0 = [rand(Bernoulli(x)) for x in py0]\n",
    "            \n",
    "            data1 = DataFrame(D = repmat([0], n1), y = py1)\n",
    "            data1[namesx[1]] = boot_cases_sample[1]\n",
    "            data1[namesx[2]] = boot_cases_sample[2]\n",
    "            data1[:estpx] = boot_cases_sample[:estpx]\n",
    "            \n",
    "            data0 = DataFrame(D = repmat([1], n0), y = py0)\n",
    "            data0[namesx[1]] = boot_controls_sample[1]\n",
    "            data0[namesx[2]] = boot_controls_sample[2]\n",
    "            data0[:estpx] = boot_controls_sample[:estpx]\n",
    "            \n",
    "            alldat = vcat(bootsample, data1, data0)\n",
    "            alldat[alldat[:D] .== 0, :estpx] = 1 - alldat[alldat[:D] .== 0, :estpx]\n",
    "            \n",
    "            push!(pseudo, coef(glm(formu, alldat, Normal(), wts = convert(Array, alldat[:,:estpx])))[2:end])\n",
    "        \n",
    "        end\n",
    "        temp_cf = squeeze(mean(Array(pseudo), 1), 1)\n",
    "        push!(bootcoef, temp_cf)\n",
    "    end\n",
    "    var_num = var(Array(bootcoef), 1)\n",
    "    wald = (cf.^2)./squeeze(var_num, 1)\n",
    "    pvalue = [ccdf(Chisq(1), m) for m in wald]\n",
    "    TAB = DataFrame(Variable = namesx, Estimate = cf, StdErr = squeeze(sqrt(var_num), 1), Wald = wald, p_value = pvalue)\n",
    "end"
   ]
  },
  {
   "cell_type": "code",
   "execution_count": null,
   "metadata": {
    "collapsed": true
   },
   "outputs": [],
   "source": []
  }
 ],
 "metadata": {
  "anaconda-cloud": {},
  "kernelspec": {
   "display_name": "Julia 0.5.0",
   "language": "julia",
   "name": "julia-0.5"
  },
  "language_info": {
   "file_extension": ".jl",
   "mimetype": "application/julia",
   "name": "julia",
   "version": "0.5.0"
  }
 },
 "nbformat": 4,
 "nbformat_minor": 1
}
